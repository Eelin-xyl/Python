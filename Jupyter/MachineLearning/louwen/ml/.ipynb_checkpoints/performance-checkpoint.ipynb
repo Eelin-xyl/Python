{
 "cells": [
  {
   "cell_type": "code",
   "execution_count": 2,
   "metadata": {},
   "outputs": [],
   "source": [
    "import pandas as pd\n",
    "import matplotlib.pyplot as plt\n",
    "import seaborn as sns\n",
    "import sklearn.pipeline as pl\n",
    "import sklearn.preprocessing as sp\n",
    "import matplotlib.pyplot as mp\n",
    "import ssl\n",
    "\n",
    "from sklearn import linear_model\n",
    "from sklearn.metrics import accuracy_score, mean_squared_error, mean_absolute_error\n",
    "from sklearn.model_selection import train_test_split\n",
    "from sklearn.preprocessing import PolynomialFeatures\n",
    "\n",
    "pd.set_option('display.max_columns', 1000)\n",
    "pd.set_option('display.width', 1000)\n",
    "pd.set_option('display.max_colwidth', 1000)\n",
    "\n",
    "\n",
    "def input_data(path):\n",
    "    data = pd.read_csv(path)\n",
    "    return data\n",
    "\n",
    "\n",
    "def read_info(data):\n",
    "    print(data.info())  # show features\n",
    "    print(data.head())  # show data structure\n",
    "    print(data.corr())  # show Line Correlation\n",
    "\n",
    "\n",
    "def visualization(data):\n",
    "    sns.set(style=\"ticks\")\n",
    "    sns.pairplot(data, hue=\"level\")\n",
    "    plt.savefig(\"./pairplot001.png\")"
   ]
  },
  {
   "cell_type": "code",
   "execution_count": 3,
   "metadata": {},
   "outputs": [
    {
     "name": "stdout",
     "output_type": "stream",
     "text": [
      "平均绝对值误差: 0.6570087923534402\n",
      "平均平方误差: 1.1632428109347472\n"
     ]
    },
    {
     "name": "stderr",
     "output_type": "stream",
     "text": [
      "/Users/louwen/anaconda3/lib/python3.7/site-packages/sklearn/linear_model/coordinate_descent.py:491: ConvergenceWarning: Objective did not converge. You might want to increase the number of iterations. Fitting data with very small alpha may cause precision problems.\n",
      "  ConvergenceWarning)\n"
     ]
    }
   ],
   "source": [
    "ori_data = input_data(\"test.csv\")\n",
    "# read_info(ori_data)\n",
    "ori_data = ori_data.drop(\"player_name\", axis=1)\n",
    "ori_data = ori_data.drop(\"season\", axis=1)\n",
    "ori_data = ori_data.drop(\"level\", axis=1)    \n",
    "# read_info(ori_data)\n",
    "\n",
    "# 构建线性回归模型,degree表示使用多少幂次(多项式的最高次数)\n",
    "model = pl.make_pipeline(\n",
    "    # 3: 多项式的最高次数\n",
    "    sp.PolynomialFeatures(3),  # 多项式特征扩展器\n",
    "    linear_model.Lasso())  # 线性回归器\n",
    "\n",
    "x = ori_data.drop(\"net_rating\", axis=1)\n",
    "y = ori_data[\"net_rating\"]\n",
    "# print(y)\n",
    "# print(\"===================\")\n",
    "x_train, x_test, y_train, y_test = train_test_split(x, y, test_size=0.25, random_state=0)\n",
    "model.fit(x_train, y_train)\n",
    "y_predict = model.predict(x_test)\n",
    "# print(y_predict)\n",
    "print(\"平均绝对值误差:\", mean_absolute_error(y_test, y_predict))\n",
    "print(\"平均平方误差:\", mean_squared_error(y_test, y_predict))"
   ]
  }
 ],
 "metadata": {
  "kernelspec": {
   "display_name": "Python 3",
   "language": "python",
   "name": "python3"
  },
  "language_info": {
   "codemirror_mode": {
    "name": "ipython",
    "version": 3
   },
   "file_extension": ".py",
   "mimetype": "text/x-python",
   "name": "python",
   "nbconvert_exporter": "python",
   "pygments_lexer": "ipython3",
   "version": "3.7.0"
  }
 },
 "nbformat": 4,
 "nbformat_minor": 2
}
